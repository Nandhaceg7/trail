{
  "nbformat": 4,
  "nbformat_minor": 0,
  "metadata": {
    "colab": {
      "provenance": [],
      "authorship_tag": "ABX9TyOyOqwJWbAogJSdSY4+LHcK",
      "include_colab_link": true
    },
    "kernelspec": {
      "name": "python3",
      "display_name": "Python 3"
    },
    "language_info": {
      "name": "python"
    }
  },
  "cells": [
    {
      "cell_type": "markdown",
      "metadata": {
        "id": "view-in-github",
        "colab_type": "text"
      },
      "source": [
        "<a href=\"https://colab.research.google.com/github/Nandhaceg7/trail/blob/main/house%20price%20prediction%20.ipynb\" target=\"_parent\"><img src=\"https://colab.research.google.com/assets/colab-badge.svg\" alt=\"Open In Colab\"/></a>"
      ]
    },
    {
      "cell_type": "code",
      "execution_count": 9,
      "metadata": {
        "colab": {
          "base_uri": "https://localhost:8080/",
          "height": 646
        },
        "id": "_cdlZR7_0upM",
        "outputId": "8a9cac56-c564-4d65-f91b-62ebed4fe42d"
      },
      "outputs": [
        {
          "output_type": "stream",
          "name": "stdout",
          "text": [
            "Running Gradio in a Colab notebook requires sharing enabled. Automatically setting `share=True` (you can turn this off by setting `share=False` in `launch()` explicitly).\n",
            "\n",
            "Colab notebook detected. To show errors in colab notebook, set debug=True in launch()\n",
            "* Running on public URL: https://02ddba438f47c2f495.gradio.live\n",
            "\n",
            "This share link expires in 72 hours. For free permanent hosting and GPU upgrades, run `gradio deploy` from the terminal in the working directory to deploy to Hugging Face Spaces (https://huggingface.co/spaces)\n"
          ]
        },
        {
          "output_type": "display_data",
          "data": {
            "text/plain": [
              "<IPython.core.display.HTML object>"
            ],
            "text/html": [
              "<div><iframe src=\"https://02ddba438f47c2f495.gradio.live\" width=\"100%\" height=\"500\" allow=\"autoplay; camera; microphone; clipboard-read; clipboard-write;\" frameborder=\"0\" allowfullscreen></iframe></div>"
            ]
          },
          "metadata": {}
        },
        {
          "output_type": "execute_result",
          "data": {
            "text/plain": []
          },
          "metadata": {},
          "execution_count": 9
        }
      ],
      "source": [
        "import gradio as gr\n",
        "import numpy as np\n",
        "from sklearn.datasets import fetch_california_housing\n",
        "from sklearn.model_selection import train_test_split\n",
        "from sklearn.linear_model import LinearRegression\n",
        "from sklearn.preprocessing import StandardScaler\n",
        "\n",
        "# Load dataset\n",
        "data = fetch_california_housing()\n",
        "X, y = data.data, data.target\n",
        "\n",
        "# Scale features\n",
        "scaler = StandardScaler()\n",
        "X_scaled = scaler.fit_transform(X)\n",
        "\n",
        "# Train-Test Split\n",
        "X_train, X_test, y_train, y_test = train_test_split(X_scaled, y, test_size=0.2, random_state=42)\n",
        "\n",
        "# Train Model\n",
        "model = LinearRegression()\n",
        "model.fit(X_train, y_train)\n",
        "\n",
        "# Prediction Function\n",
        "def predict_price(med_inc, house_age, ave_rooms, ave_bedrooms, pop, ave_occup, latitude, longitude):\n",
        "    input_data = np.array([[med_inc, house_age, ave_rooms, ave_bedrooms, pop, ave_occup, latitude, longitude]])\n",
        "    input_scaled = scaler.transform(input_data)\n",
        "    predicted_price = model.predict(input_scaled)[0]\n",
        "    return f\"🏡 Estimated House Price: **${predicted_price * 100000:.2f}**\"\n",
        "\n",
        "# Gradio UI with Attractive Design\n",
        "with gr.Blocks(theme=gr.themes.Soft()) as app:\n",
        "    gr.Markdown(\"<h1 style='text-align: center; color: #4CAF50;'>🏠 House Price Prediction AI</h1>\")\n",
        "    gr.Markdown(\"<p style='text-align: center;'>Enter house details to estimate the price</p>\")\n",
        "\n",
        "    with gr.Row():\n",
        "        with gr.Column():\n",
        "            med_inc = gr.Number(label=\"Median Income (10K USD)\", value=5.0)\n",
        "            house_age = gr.Number(label=\"House Age (Years)\", value=15)\n",
        "            ave_rooms = gr.Number(label=\"Average Rooms per House\", value=6)\n",
        "            ave_bedrooms = gr.Number(label=\"Average Bedrooms per House\", value=1)\n",
        "\n",
        "        with gr.Column():\n",
        "            pop = gr.Number(label=\"Population in Area\", value=1000)\n",
        "            ave_occup = gr.Number(label=\"Average Occupants per House\", value=3)\n",
        "            latitude = gr.Number(label=\"Latitude\", value=34.05)\n",
        "            longitude = gr.Number(label=\"Longitude\", value=-118.25)\n",
        "\n",
        "    predict_button = gr.Button(\"📊 Predict Price\", variant=\"primary\")\n",
        "\n",
        "    output = gr.Markdown(\"\")\n",
        "\n",
        "    predict_button.click(\n",
        "        fn=predict_price,\n",
        "        inputs=[med_inc, house_age, ave_rooms, ave_bedrooms, pop, ave_occup, latitude, longitude],\n",
        "        outputs=output\n",
        "    )\n",
        "\n",
        "# Run the app\n",
        "app.launch()\n"
      ]
    }
  ]
}