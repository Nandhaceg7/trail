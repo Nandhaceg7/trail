{
  "nbformat": 4,
  "nbformat_minor": 0,
  "metadata": {
    "colab": {
      "provenance": [],
      "authorship_tag": "ABX9TyNfGkSnkwf9QvkEFFHV1J/z",
      "include_colab_link": true
    },
    "kernelspec": {
      "name": "python3",
      "display_name": "Python 3"
    },
    "language_info": {
      "name": "python"
    }
  },
  "cells": [
    {
      "cell_type": "markdown",
      "metadata": {
        "id": "view-in-github",
        "colab_type": "text"
      },
      "source": [
        "<a href=\"https://colab.research.google.com/github/Nandhaceg7/trail/blob/main/logistics.ipynb\" target=\"_parent\"><img src=\"https://colab.research.google.com/assets/colab-badge.svg\" alt=\"Open In Colab\"/></a>"
      ]
    },
    {
      "cell_type": "code",
      "execution_count": 12,
      "metadata": {
        "colab": {
          "base_uri": "https://localhost:8080/",
          "height": 646
        },
        "id": "_cdlZR7_0upM",
        "outputId": "dda48c1d-4c4f-4aad-c372-5124b8a44a58"
      },
      "outputs": [
        {
          "output_type": "stream",
          "name": "stdout",
          "text": [
            "Running Gradio in a Colab notebook requires sharing enabled. Automatically setting `share=True` (you can turn this off by setting `share=False` in `launch()` explicitly).\n",
            "\n",
            "Colab notebook detected. To show errors in colab notebook, set debug=True in launch()\n",
            "* Running on public URL: https://e038ff5059e6165eae.gradio.live\n",
            "\n",
            "This share link expires in 72 hours. For free permanent hosting and GPU upgrades, run `gradio deploy` from the terminal in the working directory to deploy to Hugging Face Spaces (https://huggingface.co/spaces)\n"
          ]
        },
        {
          "output_type": "display_data",
          "data": {
            "text/plain": [
              "<IPython.core.display.HTML object>"
            ],
            "text/html": [
              "<div><iframe src=\"https://e038ff5059e6165eae.gradio.live\" width=\"100%\" height=\"500\" allow=\"autoplay; camera; microphone; clipboard-read; clipboard-write;\" frameborder=\"0\" allowfullscreen></iframe></div>"
            ]
          },
          "metadata": {}
        },
        {
          "output_type": "execute_result",
          "data": {
            "text/plain": []
          },
          "metadata": {},
          "execution_count": 12
        }
      ],
      "source": [
        "import gradio as gr\n",
        "import numpy as np\n",
        "from ortools.constraint_solver import routing_enums_pb2, pywrapcp\n",
        "\n",
        "# 📌 Sample Distance Matrix (Replace with real distances)\n",
        "DISTANCE_MATRIX = [\n",
        "    [0, 10, 20, 30, 25],  # From Location 0\n",
        "    [10, 0, 15, 35, 40],  # From Location 1\n",
        "    [20, 15, 0, 25, 30],  # From Location 2\n",
        "    [30, 35, 25, 0, 15],  # From Location 3\n",
        "    [25, 40, 30, 15, 0]   # From Location 4\n",
        "]\n",
        "\n",
        "# 🚛 Route Optimization Function\n",
        "def optimize_route(num_locations):\n",
        "    if num_locations < 2 or num_locations > len(DISTANCE_MATRIX):\n",
        "        return \"❌ Please select at least 2 and at most 5 locations.\"\n",
        "\n",
        "    # Create Data Model\n",
        "    def create_data_model():\n",
        "        return {\n",
        "            'distance_matrix': [row[:num_locations] for row in DISTANCE_MATRIX[:num_locations]],\n",
        "            'num_vehicles': 1,\n",
        "            'depot': 0\n",
        "        }\n",
        "\n",
        "    data = create_data_model()\n",
        "\n",
        "    # Create Routing Model\n",
        "    manager = pywrapcp.RoutingIndexManager(len(data['distance_matrix']), data['num_vehicles'], data['depot'])\n",
        "    routing = pywrapcp.RoutingModel(manager)\n",
        "\n",
        "    # Define Distance Callback\n",
        "    def distance_callback(from_index, to_index):\n",
        "        return data['distance_matrix'][manager.IndexToNode(from_index)][manager.IndexToNode(to_index)]\n",
        "\n",
        "    transit_callback_index = routing.RegisterTransitCallback(distance_callback)\n",
        "    routing.SetArcCostEvaluatorOfAllVehicles(transit_callback_index)\n",
        "\n",
        "    # Set Search Parameters\n",
        "    search_parameters = pywrapcp.DefaultRoutingSearchParameters()\n",
        "    search_parameters.first_solution_strategy = routing_enums_pb2.FirstSolutionStrategy.PATH_CHEAPEST_ARC\n",
        "\n",
        "    # Solve the Problem\n",
        "    solution = routing.SolveWithParameters(search_parameters)\n",
        "\n",
        "    # Extract Optimized Route\n",
        "    if solution:\n",
        "        route = []\n",
        "        index = routing.Start(0)\n",
        "        while not routing.IsEnd(index):\n",
        "            route.append(manager.IndexToNode(index))\n",
        "            index = solution.Value(routing.NextVar(index))\n",
        "        route.append(manager.IndexToNode(index))\n",
        "        return f\"🚚 Optimized Route: {route}\"\n",
        "    else:\n",
        "        return \"⚠ No optimal route found.\"\n",
        "\n",
        "# 🌟 Gradio UI\n",
        "with gr.Blocks(theme=gr.themes.Soft()) as app:\n",
        "    gr.Markdown(\"<h1 style='text-align: center; color: #4CAF50;'>🚚 AI-Powered Route Optimization</h1>\")\n",
        "    gr.Markdown(\"<p style='text-align: center;'>Select the number of locations to optimize the delivery route.</p>\")\n",
        "\n",
        "    num_locations = gr.Slider(2, 5, value=3, step=1, label=\"📍 Number of Locations\")\n",
        "    predict_button = gr.Button(\"🚛 Find Best Route\", variant=\"primary\")\n",
        "    output = gr.Markdown(\"\")\n",
        "\n",
        "    predict_button.click(fn=optimize_route, inputs=num_locations, outputs=output)\n",
        "\n",
        "# Launch the App\n",
        "app.launch()\n"
      ]
    }
  ]
}