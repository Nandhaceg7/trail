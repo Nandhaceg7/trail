{
  "nbformat": 4,
  "nbformat_minor": 0,
  "metadata": {
    "colab": {
      "provenance": [],
      "authorship_tag": "ABX9TyMHZuO+MNFpVjm3wEnANh1o",
      "include_colab_link": true
    },
    "kernelspec": {
      "name": "python3",
      "display_name": "Python 3"
    },
    "language_info": {
      "name": "python"
    }
  },
  "cells": [
    {
      "cell_type": "markdown",
      "metadata": {
        "id": "view-in-github",
        "colab_type": "text"
      },
      "source": [
        "<a href=\"https://colab.research.google.com/github/Nandhaceg7/trail/blob/main/logistics.ipynb\" target=\"_parent\"><img src=\"https://colab.research.google.com/assets/colab-badge.svg\" alt=\"Open In Colab\"/></a>"
      ]
    },
    {
      "cell_type": "code",
      "execution_count": 15,
      "metadata": {
        "colab": {
          "base_uri": "https://localhost:8080/",
          "height": 646
        },
        "id": "_cdlZR7_0upM",
        "outputId": "b04830bf-f279-49c4-c98d-fbf3d19137ff"
      },
      "outputs": [
        {
          "output_type": "stream",
          "name": "stdout",
          "text": [
            "Running Gradio in a Colab notebook requires sharing enabled. Automatically setting `share=True` (you can turn this off by setting `share=False` in `launch()` explicitly).\n",
            "\n",
            "Colab notebook detected. To show errors in colab notebook, set debug=True in launch()\n",
            "* Running on public URL: https://5beec5417dad21b484.gradio.live\n",
            "\n",
            "This share link expires in 72 hours. For free permanent hosting and GPU upgrades, run `gradio deploy` from the terminal in the working directory to deploy to Hugging Face Spaces (https://huggingface.co/spaces)\n"
          ]
        },
        {
          "output_type": "display_data",
          "data": {
            "text/plain": [
              "<IPython.core.display.HTML object>"
            ],
            "text/html": [
              "<div><iframe src=\"https://5beec5417dad21b484.gradio.live\" width=\"100%\" height=\"500\" allow=\"autoplay; camera; microphone; clipboard-read; clipboard-write;\" frameborder=\"0\" allowfullscreen></iframe></div>"
            ]
          },
          "metadata": {}
        },
        {
          "output_type": "execute_result",
          "data": {
            "text/plain": []
          },
          "metadata": {},
          "execution_count": 15
        }
      ],
      "source": [
        "import gradio as gr\n",
        "import numpy as np\n",
        "import pandas as pd\n",
        "from sklearn.model_selection import train_test_split\n",
        "from sklearn.linear_model import LogisticRegression\n",
        "\n",
        "# 📦 Generate Fake Logistics Data\n",
        "np.random.seed(42)\n",
        "data = pd.DataFrame({\n",
        "    'distance_km': np.random.randint(1, 50, 200),\n",
        "    'traffic_level': np.random.randint(1, 5, 200),  # 1 = Low, 5 = Heavy\n",
        "    'weather': np.random.randint(1, 4, 200),  # 1 = Clear, 2 = Rain, 3 = Storm\n",
        "    'delivery_on_time': np.random.choice([0, 1], 200)  # 0 = Late, 1 = On Time\n",
        "})\n",
        "\n",
        "# 📌 Train Logistic Regression Model\n",
        "X = data[['distance_km', 'traffic_level', 'weather']]\n",
        "y = data['delivery_on_time']\n",
        "X_train, X_test, y_train, y_test = train_test_split(X, y, test_size=0.2, random_state=42)\n",
        "\n",
        "model = LogisticRegression()\n",
        "model.fit(X_train, y_train)\n",
        "\n",
        "# 🚚 Prediction Function\n",
        "def predict_delivery(distance, traffic, weather):\n",
        "    prediction = model.predict([[distance, traffic, weather]])[0]\n",
        "    return \"✅ On Time\" if prediction == 1 else \"❌ Late Delivery\"\n",
        "\n",
        "# 🌟 Gradio UI\n",
        "with gr.Blocks(theme=gr.themes.Soft()) as app:\n",
        "    gr.Markdown(\"<h1 style='text-align: center; color: #4CAF50;'>🚚 AI-Powered Logistics Delivery Prediction</h1>\")\n",
        "    gr.Markdown(\"<p style='text-align: center;'>Enter package details to predict if it will arrive on time.</p>\")\n",
        "\n",
        "    with gr.Row():\n",
        "        distance = gr.Number(label=\"📏 Distance (km)\", value=10)\n",
        "        traffic = gr.Slider(1, 5, value=3, step=1, label=\"🚦 Traffic Level (1=Low, 5=Heavy)\")\n",
        "        weather = gr.Slider(1, 3, value=1, step=1, label=\"🌦 Weather (1=Clear, 2=Rain, 3=Storm)\")\n",
        "\n",
        "    predict_button = gr.Button(\"📊 Predict Delivery\", variant=\"primary\")\n",
        "    output = gr.Markdown(\"\")\n",
        "\n",
        "    predict_button.click(fn=predict_delivery, inputs=[distance, traffic, weather], outputs=output)\n",
        "\n",
        "# Launch the App\n",
        "app.launch()\n"
      ]
    }
  ]
}